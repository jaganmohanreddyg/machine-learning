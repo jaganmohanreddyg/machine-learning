In [1]:
import numpy as np
import seaborn as sns
import matplotlib.pyplot as plt
In [2]:
#Given Distribution
x = np.array([1, 2, 3])
y = np.array([1.2, 1.9, 3.2])
plt.scatter(x,y,color= 'red')
plt.xlabel("X")
plt.ylabel("Y")
plt.title("Distribution")
Out[2]:
Text(0.5, 1.0, 'Distribution')

In [3]:
def get_parameters(x, y):
    w1 = (len(x) * x.dot(y.T) - (np.sum(y) * np.sum(x)))/(len(x) * x.dot(x.T) - np.sum(x) ** 2)
    w0 = np.mean(y) - w1 * np.mean(x)
    return w1, w0
In [4]:
w1,w0 = get_parameters(x,y)
w1,w0
Out[4]:
(1.000000000000001, 0.09999999999999787)
In [5]:
sns.scatterplot(x,y)
sns.lineplot(x,w1*x + w0,color= "red")
plt.title("Best fit Line")
plt.xlabel("X")
plt.ylabel("Y")
plt.savefig("tutorial.png")
/home/dcodek/anaconda3/lib/python3.8/site-packages/seaborn/_decorators.py:36: FutureWarning: Pass the following variables as keyword args: x, y. From version 0.12, the only valid positional argument will be `data`, and passing other arguments without an explicit keyword will result in an error or misinterpretation.
  warnings.warn(
/home/dcodek/anaconda3/lib/python3.8/site-packages/seaborn/_decorators.py:36: FutureWarning: Pass the following variables as keyword args: x, y. From version 0.12, the only valid positional argument will be `data`, and passing other arguments without an explicit keyword will result in an error or misinterpretation.
  warnings.warn(

In [ ]:
